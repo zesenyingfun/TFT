{
 "cells": [
  {
   "cell_type": "code",
   "execution_count": 2,
   "metadata": {},
   "outputs": [
    {
     "name": "stdout",
     "output_type": "stream",
     "text": [
      "{'AAPL': {'volatility': 0.25643481736212687, 'average_return': -0.0010796965959214827, 'total_return': -0.04833256813723452}, 'TSLA': {'volatility': 0.6227432968557032, 'average_return': 0.002498805793052503, 'total_return': 0.07446302052703802}, 'AMZN': {'volatility': 0.24675296587960205, 'average_return': 0.0030333585021611806, 'total_return': 0.12676190024203882}, 'GOOGL': {'volatility': 0.31920577405645856, 'average_return': 0.004103515480793936, 'total_return': 0.17342119073998474}, 'MSFT': {'volatility': 0.2669507078917814, 'average_return': -0.0010223692070346034, 'total_return': -0.04654508329852891}, 'META': {'volatility': 0.28163952395402525, 'average_return': 0.004124964535638535, 'total_return': 0.1764924177251488}, 'NVDA': {'volatility': 0.6363790222619775, 'average_return': -0.0033778646681304767, 'total_return': -0.15847940561206086}}\n",
      "{'Aatrox': {'tag1': 'Fighter', 'tag2': None}, 'Ahri': {'tag1': 'Mage', 'tag2': 'Assassin'}, 'Akali': {'tag1': 'Assassin', 'tag2': None}, 'Akshan': {'tag1': 'Marksman', 'tag2': 'Assassin'}, 'Alistar': {'tag1': 'Tank', 'tag2': 'Support'}, 'Ambessa': {'tag1': 'Fighter', 'tag2': 'Assassin'}, 'Amumu': {'tag1': 'Tank', 'tag2': 'Support'}, 'Anivia': {'tag1': 'Mage', 'tag2': None}, 'Annie': {'tag1': 'Mage', 'tag2': 'Support'}, 'Aphelios': {'tag1': 'Marksman', 'tag2': None}, 'Ashe': {'tag1': 'Marksman', 'tag2': 'Support'}, 'AurelionSol': {'tag1': 'Mage', 'tag2': None}, 'Aurora': {'tag1': 'Mage', 'tag2': 'Assassin'}, 'Azir': {'tag1': 'Mage', 'tag2': 'Marksman'}, 'Bard': {'tag1': 'Support', 'tag2': 'Mage'}, 'Belveth': {'tag1': 'Fighter', 'tag2': None}, 'Blitzcrank': {'tag1': 'Tank', 'tag2': 'Support'}, 'Brand': {'tag1': 'Mage', 'tag2': 'Support'}, 'Braum': {'tag1': 'Tank', 'tag2': 'Support'}, 'Briar': {'tag1': 'Fighter', 'tag2': 'Assassin'}, 'Caitlyn': {'tag1': 'Marksman', 'tag2': None}, 'Camille': {'tag1': 'Fighter', 'tag2': 'Assassin'}, 'Cassiopeia': {'tag1': 'Mage', 'tag2': None}, 'Chogath': {'tag1': 'Tank', 'tag2': 'Mage'}, 'Corki': {'tag1': 'Marksman', 'tag2': 'Mage'}, 'Darius': {'tag1': 'Fighter', 'tag2': 'Tank'}, 'Diana': {'tag1': 'Fighter', 'tag2': 'Assassin'}, 'Draven': {'tag1': 'Marksman', 'tag2': None}, 'DrMundo': {'tag1': 'Tank', 'tag2': 'Fighter'}, 'Ekko': {'tag1': 'Assassin', 'tag2': 'Mage'}, 'Elise': {'tag1': 'Assassin', 'tag2': 'Mage'}, 'Evelynn': {'tag1': 'Assassin', 'tag2': 'Mage'}, 'Ezreal': {'tag1': 'Marksman', 'tag2': 'Mage'}, 'Fiddlesticks': {'tag1': 'Mage', 'tag2': 'Support'}, 'Fiora': {'tag1': 'Fighter', 'tag2': 'Assassin'}, 'Fizz': {'tag1': 'Assassin', 'tag2': 'Fighter'}, 'Galio': {'tag1': 'Tank', 'tag2': 'Mage'}, 'Gangplank': {'tag1': 'Fighter', 'tag2': None}, 'Garen': {'tag1': 'Fighter', 'tag2': 'Tank'}, 'Gnar': {'tag1': 'Fighter', 'tag2': 'Tank'}, 'Gragas': {'tag1': 'Fighter', 'tag2': 'Mage'}, 'Graves': {'tag1': 'Marksman', 'tag2': None}, 'Gwen': {'tag1': 'Fighter', 'tag2': None}, 'Hecarim': {'tag1': 'Fighter', 'tag2': 'Tank'}, 'Heimerdinger': {'tag1': 'Mage', 'tag2': 'Support'}, 'Hwei': {'tag1': 'Mage', 'tag2': 'Support'}, 'Illaoi': {'tag1': 'Fighter', 'tag2': 'Tank'}, 'Irelia': {'tag1': 'Fighter', 'tag2': 'Assassin'}, 'Ivern': {'tag1': 'Support', 'tag2': 'Mage'}, 'Janna': {'tag1': 'Support', 'tag2': 'Mage'}, 'JarvanIV': {'tag1': 'Fighter', 'tag2': 'Tank'}, 'Jax': {'tag1': 'Fighter', 'tag2': None}, 'Jayce': {'tag1': 'Marksman', 'tag2': 'Fighter'}, 'Jhin': {'tag1': 'Marksman', 'tag2': 'Mage'}, 'Jinx': {'tag1': 'Marksman', 'tag2': None}, 'Kaisa': {'tag1': 'Marksman', 'tag2': 'Mage'}, 'Kalista': {'tag1': 'Marksman', 'tag2': None}, 'Karma': {'tag1': 'Mage', 'tag2': 'Support'}, 'Karthus': {'tag1': 'Mage', 'tag2': None}, 'Kassadin': {'tag1': 'Assassin', 'tag2': 'Mage'}, 'Katarina': {'tag1': 'Assassin', 'tag2': 'Mage'}, 'Kayle': {'tag1': 'Mage', 'tag2': 'Marksman'}, 'Kayn': {'tag1': 'Fighter', 'tag2': 'Assassin'}, 'Kennen': {'tag1': 'Mage', 'tag2': None}, 'Khazix': {'tag1': 'Assassin', 'tag2': None}, 'Kindred': {'tag1': 'Marksman', 'tag2': None}, 'Kled': {'tag1': 'Fighter', 'tag2': None}, 'KogMaw': {'tag1': 'Marksman', 'tag2': 'Mage'}, 'KSante': {'tag1': 'Tank', 'tag2': 'Fighter'}, 'Leblanc': {'tag1': 'Assassin', 'tag2': 'Mage'}, 'LeeSin': {'tag1': 'Fighter', 'tag2': 'Assassin'}, 'Leona': {'tag1': 'Tank', 'tag2': 'Support'}, 'Lillia': {'tag1': 'Fighter', 'tag2': 'Mage'}, 'Lissandra': {'tag1': 'Mage', 'tag2': None}, 'Lucian': {'tag1': 'Marksman', 'tag2': 'Assassin'}, 'Lulu': {'tag1': 'Support', 'tag2': 'Mage'}, 'Lux': {'tag1': 'Mage', 'tag2': 'Support'}, 'Malphite': {'tag1': 'Tank', 'tag2': 'Mage'}, 'Malzahar': {'tag1': 'Mage', 'tag2': None}, 'Maokai': {'tag1': 'Tank', 'tag2': 'Support'}, 'MasterYi': {'tag1': 'Assassin', 'tag2': 'Fighter'}, 'Milio': {'tag1': 'Support', 'tag2': 'Mage'}, 'MissFortune': {'tag1': 'Marksman', 'tag2': 'Mage'}, 'MonkeyKing': {'tag1': 'Fighter', 'tag2': 'Tank'}, 'Mordekaiser': {'tag1': 'Fighter', 'tag2': 'Mage'}, 'Morgana': {'tag1': 'Mage', 'tag2': 'Support'}, 'Naafiri': {'tag1': 'Assassin', 'tag2': 'Fighter'}, 'Nami': {'tag1': 'Support', 'tag2': 'Mage'}, 'Nasus': {'tag1': 'Fighter', 'tag2': 'Tank'}, 'Nautilus': {'tag1': 'Tank', 'tag2': 'Support'}, 'Neeko': {'tag1': 'Mage', 'tag2': 'Support'}, 'Nidalee': {'tag1': 'Assassin', 'tag2': 'Mage'}, 'Nilah': {'tag1': 'Fighter', 'tag2': 'Assassin'}, 'Nocturne': {'tag1': 'Fighter', 'tag2': 'Assassin'}, 'Nunu': {'tag1': 'Tank', 'tag2': 'Mage'}, 'Olaf': {'tag1': 'Fighter', 'tag2': 'Tank'}, 'Orianna': {'tag1': 'Mage', 'tag2': 'Support'}, 'Ornn': {'tag1': 'Tank', 'tag2': None}, 'Pantheon': {'tag1': 'Fighter', 'tag2': 'Assassin'}, 'Poppy': {'tag1': 'Tank', 'tag2': 'Fighter'}, 'Pyke': {'tag1': 'Support', 'tag2': 'Assassin'}, 'Qiyana': {'tag1': 'Assassin', 'tag2': None}, 'Quinn': {'tag1': 'Marksman', 'tag2': 'Assassin'}, 'Rakan': {'tag1': 'Support', 'tag2': None}, 'Rammus': {'tag1': 'Tank', 'tag2': None}, 'RekSai': {'tag1': 'Fighter', 'tag2': 'Tank'}, 'Rell': {'tag1': 'Tank', 'tag2': 'Support'}, 'Renata': {'tag1': 'Support', 'tag2': 'Mage'}, 'Renekton': {'tag1': 'Fighter', 'tag2': 'Tank'}, 'Rengar': {'tag1': 'Assassin', 'tag2': 'Fighter'}, 'Riven': {'tag1': 'Fighter', 'tag2': 'Assassin'}, 'Rumble': {'tag1': 'Fighter', 'tag2': 'Mage'}, 'Ryze': {'tag1': 'Mage', 'tag2': None}, 'Samira': {'tag1': 'Marksman', 'tag2': 'Assassin'}, 'Sejuani': {'tag1': 'Tank', 'tag2': None}, 'Senna': {'tag1': 'Support', 'tag2': 'Marksman'}, 'Seraphine': {'tag1': 'Support', 'tag2': 'Mage'}, 'Sett': {'tag1': 'Fighter', 'tag2': 'Tank'}, 'Shaco': {'tag1': 'Assassin', 'tag2': None}, 'Shen': {'tag1': 'Tank', 'tag2': None}, 'Shyvana': {'tag1': 'Fighter', 'tag2': 'Mage'}, 'Singed': {'tag1': 'Tank', 'tag2': 'Mage'}, 'Sion': {'tag1': 'Tank', 'tag2': 'Fighter'}, 'Sivir': {'tag1': 'Marksman', 'tag2': None}, 'Skarner': {'tag1': 'Tank', 'tag2': 'Fighter'}, 'Smolder': {'tag1': 'Marksman', 'tag2': 'Mage'}, 'Sona': {'tag1': 'Support', 'tag2': 'Mage'}, 'Soraka': {'tag1': 'Support', 'tag2': 'Mage'}, 'Swain': {'tag1': 'Mage', 'tag2': 'Support'}, 'Sylas': {'tag1': 'Mage', 'tag2': 'Assassin'}, 'Syndra': {'tag1': 'Mage', 'tag2': None}, 'TahmKench': {'tag1': 'Tank', 'tag2': 'Support'}, 'Taliyah': {'tag1': 'Mage', 'tag2': 'Support'}, 'Talon': {'tag1': 'Assassin', 'tag2': None}, 'Taric': {'tag1': 'Support', 'tag2': 'Tank'}, 'Teemo': {'tag1': 'Marksman', 'tag2': 'Mage'}, 'Thresh': {'tag1': 'Support', 'tag2': 'Tank'}, 'Tristana': {'tag1': 'Marksman', 'tag2': 'Assassin'}, 'Trundle': {'tag1': 'Fighter', 'tag2': 'Tank'}, 'Tryndamere': {'tag1': 'Fighter', 'tag2': 'Assassin'}, 'TwistedFate': {'tag1': 'Mage', 'tag2': 'Marksman'}, 'Twitch': {'tag1': 'Marksman', 'tag2': 'Assassin'}, 'Udyr': {'tag1': 'Fighter', 'tag2': 'Tank'}, 'Urgot': {'tag1': 'Fighter', 'tag2': 'Tank'}, 'Varus': {'tag1': 'Marksman', 'tag2': 'Mage'}, 'Vayne': {'tag1': 'Marksman', 'tag2': 'Assassin'}, 'Veigar': {'tag1': 'Mage', 'tag2': None}, 'Velkoz': {'tag1': 'Mage', 'tag2': 'Support'}, 'Vex': {'tag1': 'Mage', 'tag2': None}, 'Vi': {'tag1': 'Fighter', 'tag2': 'Assassin'}, 'Viego': {'tag1': 'Fighter', 'tag2': 'Assassin'}, 'Viktor': {'tag1': 'Mage', 'tag2': None}, 'Vladimir': {'tag1': 'Mage', 'tag2': 'Fighter'}, 'Volibear': {'tag1': 'Fighter', 'tag2': 'Tank'}, 'Warwick': {'tag1': 'Fighter', 'tag2': 'Tank'}, 'Xayah': {'tag1': 'Marksman', 'tag2': None}, 'Xerath': {'tag1': 'Mage', 'tag2': 'Support'}, 'XinZhao': {'tag1': 'Fighter', 'tag2': 'Tank'}, 'Yasuo': {'tag1': 'Fighter', 'tag2': 'Assassin'}, 'Yone': {'tag1': 'Fighter', 'tag2': 'Assassin'}, 'Yorick': {'tag1': 'Fighter', 'tag2': 'Tank'}, 'Yuumi': {'tag1': 'Support', 'tag2': 'Mage'}, 'Zac': {'tag1': 'Tank', 'tag2': 'Fighter'}, 'Zed': {'tag1': 'Assassin', 'tag2': None}, 'Zeri': {'tag1': 'Marksman', 'tag2': None}, 'Ziggs': {'tag1': 'Mage', 'tag2': None}, 'Zilean': {'tag1': 'Support', 'tag2': 'Mage'}, 'Zoe': {'tag1': 'Mage', 'tag2': None}, 'Zyra': {'tag1': 'Mage', 'tag2': 'Support'}}\n"
     ]
    }
   ],
   "source": [
    "import json\n",
    "\n",
    "# Load stocks attributes\n",
    "with open('data/stocks_attribute.json', 'r') as f:\n",
    "    stocks_data = json.load(f)\n",
    "\n",
    "# Load champions traits\n",
    "with open('data/champions_traits.json', 'r') as f:\n",
    "    champions_data = json.load(f)\n",
    "\n",
    "# Display the data\n",
    "print(stocks_data)\n",
    "print(champions_data)"
   ]
  },
  {
   "cell_type": "code",
   "execution_count": null,
   "metadata": {},
   "outputs": [],
   "source": []
  },
  {
   "cell_type": "code",
   "execution_count": 14,
   "metadata": {},
   "outputs": [
    {
     "name": "stdout",
     "output_type": "stream",
     "text": [
      "Stock: AAPL Champion: Support\n",
      "Stock: TSLA Champion: Marksman\n",
      "Stock: AMZN Champion: Tank\n",
      "Stock: GOOGL Champion: Marksman\n",
      "Stock: MSFT Champion: Support\n",
      "Stock: META Champion: Tank\n",
      "Stock: NVDA Champion: Assassin\n",
      "{'AAPL': 'Alistar', 'TSLA': 'Akshan', 'AMZN': 'Amumu', 'GOOGL': 'Aphelios', 'MSFT': 'Annie', 'META': 'Blitzcrank', 'NVDA': 'Ahri'}\n"
     ]
    }
   ],
   "source": [
    "def classify_stocks(stocks_data, champions_data):\n",
    "    classified_stocks = {}\n",
    "    for stock, attributes in stocks_data.items():\n",
    "        for champion, traits in champions_data.items():\n",
    "            if attributes['volatility'] > 0.3 and attributes['average_return'] > 0:\n",
    "                if traits['tag1'] == 'Marksman' or traits['tag2'] == 'Marksman':\n",
    "                    if champion in classified_stocks.values():\n",
    "                        continue\n",
    "                    classified_stocks[stock] = champion\n",
    "                    print('Stock:', stock, 'Champion:', 'Marksman')\n",
    "                    break\n",
    "            elif attributes['volatility'] > 0.3 and attributes['average_return'] <= 0:\n",
    "                if traits['tag1'] == 'Assassin' or traits['tag2'] == 'Assassin':\n",
    "                    if champion in classified_stocks.values():\n",
    "                        continue\n",
    "                    classified_stocks[stock] = champion\n",
    "                    print('Stock:', stock, 'Champion:', 'Assassin')\n",
    "                    break\n",
    "            elif attributes['volatility'] <= 0.3 and attributes['average_return'] > 0:\n",
    "                if traits['tag1'] == 'Tank' or traits['tag2'] == 'Tank':\n",
    "                    if champion in classified_stocks.values():\n",
    "                        continue\n",
    "                    classified_stocks[stock] = champion\n",
    "                    print('Stock:', stock, 'Champion:',  'Tank')\n",
    "                    break\n",
    "            elif attributes['volatility'] <= 0.3 and attributes['average_return'] <= 0:\n",
    "                if traits['tag1'] == 'Support' or traits['tag2'] == 'Support':\n",
    "                    if champion in classified_stocks.values():\n",
    "                        continue\n",
    "                    classified_stocks[stock] = champion\n",
    "                    print('Stock:', stock, 'Champion:', 'Support')\n",
    "                    break\n",
    "    return classified_stocks\n",
    "\n",
    "classified_stocks = classify_stocks(stocks_data, champions_data)\n",
    "print(classified_stocks)\n",
    "with open('data/classified_stocks.json', 'w') as f:\n",
    "    json.dump(classified_stocks, f)"
   ]
  },
  {
   "cell_type": "code",
   "execution_count": null,
   "metadata": {},
   "outputs": [],
   "source": []
  },
  {
   "cell_type": "code",
   "execution_count": null,
   "metadata": {},
   "outputs": [],
   "source": []
  },
  {
   "cell_type": "code",
   "execution_count": null,
   "metadata": {},
   "outputs": [],
   "source": [
    "for stock, champion in reversed(list(classified_stocks.items())):\n",
    "    print(f'Stock: {stock}, Champion: {champion}')"
   ]
  }
 ],
 "metadata": {
  "kernelspec": {
   "display_name": ".venv",
   "language": "python",
   "name": "python3"
  },
  "language_info": {
   "codemirror_mode": {
    "name": "ipython",
    "version": 3
   },
   "file_extension": ".py",
   "mimetype": "text/x-python",
   "name": "python",
   "nbconvert_exporter": "python",
   "pygments_lexer": "ipython3",
   "version": "3.12.4"
  }
 },
 "nbformat": 4,
 "nbformat_minor": 2
}
